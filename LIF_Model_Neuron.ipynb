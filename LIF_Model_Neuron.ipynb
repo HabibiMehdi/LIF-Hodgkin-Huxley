{
  "nbformat": 4,
  "nbformat_minor": 0,
  "metadata": {
    "colab": {
      "provenance": [],
      "collapsed_sections": [
        "Id6cZ_Vc4eT6",
        "0L6Fw2-c1I3a",
        "PJrppypm1EiS",
        "llz52QEd2e2C",
        "LbZVeCEa3MgC"
      ]
    },
    "kernelspec": {
      "name": "python3",
      "display_name": "Python 3"
    },
    "language_info": {
      "name": "python"
    }
  },
  "cells": [
    {
      "cell_type": "markdown",
      "source": [
        "---Mehdi Habibi---june2024----"
      ],
      "metadata": {
        "id": "xw2ZFYe4Lqpc"
      }
    },
    {
      "cell_type": "markdown",
      "source": [
        "## Importing Libraries"
      ],
      "metadata": {
        "id": "Id6cZ_Vc4eT6"
      }
    },
    {
      "cell_type": "code",
      "execution_count": null,
      "metadata": {
        "id": "5uwtzFz80aMH"
      },
      "outputs": [],
      "source": [
        "import matplotlib.pyplot as plt\n",
        "import numpy as np\n",
        "import time\n",
        "import math"
      ]
    },
    {
      "cell_type": "markdown",
      "source": [
        "## define Current"
      ],
      "metadata": {
        "id": "0L6Fw2-c1I3a"
      }
    },
    {
      "cell_type": "code",
      "source": [
        "def I_creator(type, T, dt, parameters):\n",
        "\n",
        "    '''\n",
        "    creates a sequence of values that represents the amount of input current in a form of array.\n",
        "\n",
        "    Expects:\n",
        "    T          : Total duration of simulation [ms]\n",
        "    dt         : Simulation time step [ms]\n",
        "    type       : a string that identifies the input current function\n",
        "    parameters : a dictionary that contains required parameters of the current function.\n",
        "\n",
        "    Returns:\n",
        "    I_array    : an array of distinct values that represents the input current\n",
        "    '''\n",
        "\n",
        "    range_T = np.arange(0, T, dt)\n",
        "    Lt = (range_T).size\n",
        "\n",
        "    # 1\n",
        "    if type == \"constant\":\n",
        "        I_array = parameters[\"value\"] * np.ones(Lt)\n",
        "\n",
        "\n",
        "    # 2\n",
        "    elif type == \"sine_wave\":\n",
        "        I_lst = []\n",
        "        for step in range(Lt):\n",
        "            # Compute value of t\n",
        "            t = step * dt\n",
        "\n",
        "            current_step_I = 400 * (np.sin(t) + 0.9)\n",
        "            I_lst.append(current_step_I)\n",
        "        I_array = np.array(I_lst)\n",
        "\n",
        "\n",
        "    # 3\n",
        "    elif type == \"step_function\":\n",
        "        step_counter = 0\n",
        "        change_time = parameters[\"step_times_lst\"][0]\n",
        "        current_current = parameters[\"currents_lst\"][0]\n",
        "\n",
        "        I_lst = []\n",
        "        for time_counter in range(Lt):\n",
        "            # Compute value of t\n",
        "            t = time_counter * dt\n",
        "\n",
        "            if t > change_time:\n",
        "                change_time = parameters[\"step_times_lst\"][step_counter]\n",
        "                current_current = parameters[\"currents_lst\"][step_counter]\n",
        "                step_counter =  step_counter + 1\n",
        "\n",
        "            current_step_I = current_current\n",
        "            I_lst.append(current_step_I)\n",
        "\n",
        "        I_array = np.array(I_lst)\n",
        "\n",
        "\n",
        "    # 4\n",
        "    elif type == \"linear\":\n",
        "        I_lst = []\n",
        "        for step in range(Lt):\n",
        "            # Compute value of t\n",
        "            t = step * dt\n",
        "\n",
        "            current_step_I = parameters[\"constant_multiplier\"]*t\n",
        "            I_lst.append(current_step_I)\n",
        "        I_array = np.array(I_lst)\n",
        "\n",
        "\n",
        "    # 5\n",
        "    elif type == \"GWN\":\n",
        "        np.random.seed(seed=parameters['seed'])\n",
        "\n",
        "        #generate GWN\n",
        "        I_array =  parameters['sig'] * np.random.randn(Lt) / np.sqrt(dt/1000.)\n",
        "        I_array = I_array + 250\n",
        "\n",
        "\n",
        "    return range_T, I_array\n"
      ],
      "metadata": {
        "id": "Gbtu2_Wf0tZz"
      },
      "execution_count": null,
      "outputs": []
    },
    {
      "cell_type": "markdown",
      "source": [
        "## LIF Model"
      ],
      "metadata": {
        "id": "PJrppypm1EiS"
      }
    },
    {
      "cell_type": "code",
      "source": [
        "class LIF:\n",
        "    def __init__(self, V_th, V_reset, tau_m, g_L, V_init, V_L, tref, T, dt):\n",
        "        ### typical neuron parameters###\n",
        "        self.V_th = V_th # spike threshold [mV]\n",
        "        self.V_reset = V_reset #reset potential [mV]\n",
        "        self.tau_m = tau_m # membrane time constant [ms]\n",
        "        self.g_L = g_L #leak conductance [nS]\n",
        "        self.V_init= V_init # initial potential [mV]\n",
        "        self.V_L = V_L #leak reversal potential [mV]\n",
        "        self.tref = tref # refractory time (ms)\n",
        "\n",
        "        ### simulation parameters ###\n",
        "        self.T = T # Total duration of simulation [ms]\n",
        "        self.dt = dt  # Simulation time step [ms]\n",
        "\n",
        "        self.range_t = np.arange(0, self.T, self.dt) # Vector of discretized time points [ms]\n",
        "\n",
        "    def run(self, I):\n",
        "        '''\n",
        "        Simulate the LIF dynamics with external input current\n",
        "\n",
        "        Expects:\n",
        "        I          : input current [pA]. The injected current should be an array\n",
        "\n",
        "        Returns:\n",
        "        rec_spikes : spike times\n",
        "        rec_v      : mebrane potential\n",
        "        '''\n",
        "\n",
        "        # Initialize voltage\n",
        "        Lt = self.range_t.size\n",
        "        v = np.zeros(Lt)\n",
        "        v[0] = self.V_init\n",
        "        tr = 0.\n",
        "\n",
        "\n",
        "        # simulate the LIF dynamics\n",
        "        rec_spikes = []               # record spike times\n",
        "        for it in range(Lt-1):\n",
        "            if tr > 0:\n",
        "                v[it] = self.V_reset\n",
        "                tr = tr-1\n",
        "\n",
        "            elif v[it] >= self.V_th:         #reset voltage and record spike event\n",
        "                rec_spikes.append(it)\n",
        "                v[it] = self.V_reset\n",
        "                tr = self.tref/self.dt\n",
        "\n",
        "            #calculate the increment of the membrane potential\n",
        "            dv = (\n",
        "                -(v[it]-self.V_L)\n",
        "                + I[it]/self.g_L\n",
        "                ) * (self.dt/self.tau_m)\n",
        "\n",
        "            #update the membrane potential\n",
        "            v[it+1] = v[it] + dv\n",
        "\n",
        "        rec_spikes = np.array(rec_spikes) * self.dt\n",
        "\n",
        "        return v, rec_spikes\n",
        "\n",
        "    def __repr__(self):\n",
        "        return \"This is object of class LIF\"\n"
      ],
      "metadata": {
        "id": "rFvRg_GW1DL7"
      },
      "execution_count": null,
      "outputs": []
    },
    {
      "cell_type": "markdown",
      "source": [
        "### Set parameters for LIF Model"
      ],
      "metadata": {
        "id": "G6ddKMKa1dtc"
      }
    },
    {
      "cell_type": "markdown",
      "source": [
        "class LIF:\n",
        "                  ( V_th, V_reset, tau_m, g_L, V_init, V_L, tref, T, dt)"
      ],
      "metadata": {
        "id": "YB1FUhW41oea"
      }
    },
    {
      "cell_type": "code",
      "source": [
        "Lif1 = LIF(-55. , -75. , 10. , 10. , -65., -75. , 2. , 400. , .1)"
      ],
      "metadata": {
        "id": "YulzW5H_1dCh"
      },
      "execution_count": null,
      "outputs": []
    },
    {
      "cell_type": "markdown",
      "source": [
        "## Define Functions for plot (Voltage-time) ,(f-I)curve , (I-time)"
      ],
      "metadata": {
        "id": "llz52QEd2e2C"
      }
    },
    {
      "cell_type": "code",
      "source": [
        "def membrane_potential_plotter(time_range, voltage):\n",
        "    plt.plot(time_range, voltage, color = \"blue\")\n",
        "    plt.xlim(0, 100)\n",
        "    plt.xlabel('Time (ms)')\n",
        "    plt.ylabel('Membrane Potential (mV)')\n",
        "    plt.show()"
      ],
      "metadata": {
        "id": "K9i8whFc2rif"
      },
      "execution_count": null,
      "outputs": []
    },
    {
      "cell_type": "code",
      "source": [
        "def current_plotter(time_range, current):\n",
        "    plt.plot(time_range, current , color = \"yellow\")\n",
        "    plt.xlim(0, 100)\n",
        "    plt.xlabel('Time (ms)')\n",
        "    plt.ylabel('Input Current (pA)')\n",
        "    plt.show()"
      ],
      "metadata": {
        "id": "LyK8lNGF2zGU"
      },
      "execution_count": null,
      "outputs": []
    },
    {
      "cell_type": "code",
      "source": [
        "def frequency_vs_input_plotter(input_current_lst, frequency_of_spikes_lst):\n",
        "    plt.plot(input_current_lst, frequency_of_spikes_lst, color = \"green\")\n",
        "    plt.xlabel('Input Current (pA)')\n",
        "    plt.ylabel('Frequency (KHz)')\n",
        "    plt.show()\n"
      ],
      "metadata": {
        "id": "8QqIk6KB22BK"
      },
      "execution_count": null,
      "outputs": []
    },
    {
      "cell_type": "markdown",
      "source": [
        "## Result"
      ],
      "metadata": {
        "id": "qxYBhk0r25GK"
      }
    },
    {
      "cell_type": "markdown",
      "source": [
        "### Set parameters for Step Function Current"
      ],
      "metadata": {
        "id": "LbZVeCEa3MgC"
      }
    },
    {
      "cell_type": "code",
      "source": [
        "step_times_lst = [40, 60, 200, 300, 350, 800]\n",
        "currents_lst = [100, 150, 400, 490, 520, 600]"
      ],
      "metadata": {
        "id": "d7CjX_IQ3Gbi"
      },
      "execution_count": null,
      "outputs": []
    },
    {
      "cell_type": "code",
      "source": [
        "range_T, I_array = I_creator(\"step_function\", 400. , .1, {\"step_times_lst\":step_times_lst, \"currents_lst\":currents_lst})\n",
        "# I_creator(type, T, dt, parameters)"
      ],
      "metadata": {
        "id": "Kd4ipcBJ3CL7"
      },
      "execution_count": null,
      "outputs": []
    },
    {
      "cell_type": "markdown",
      "source": [
        "### Showing Results"
      ],
      "metadata": {
        "id": "2KQ__0mG4YWZ"
      }
    },
    {
      "cell_type": "code",
      "source": [
        "current_plotter(range_T, I_array)"
      ],
      "metadata": {
        "colab": {
          "base_uri": "https://localhost:8080/",
          "height": 449
        },
        "id": "4qlf8TrF24ri",
        "outputId": "050f6055-6930-41af-f138-17d8571c7397"
      },
      "execution_count": null,
      "outputs": [
        {
          "output_type": "display_data",
          "data": {
            "text/plain": [
              "<Figure size 640x480 with 1 Axes>"
            ],
            "image/png": "[encoded data removed]"
          },
          "metadata": {}
        }
      ]
    },
    {
      "cell_type": "code",
      "source": [
        "v, rec_spikes = Lif1.run(I_array)\n",
        "\n",
        "membrane_potential_plotter(Lif1.range_t, v)"
      ],
      "metadata": {
        "colab": {
          "base_uri": "https://localhost:8080/",
          "height": 449
        },
        "id": "TC7XLr2Y3hIz",
        "outputId": "d47ae8ca-b419-4dbf-fec0-93cecfb53811"
      },
      "execution_count": null,
      "outputs": [
        {
          "output_type": "display_data",
          "data": {
            "text/plain": [
              "<Figure size 640x480 with 1 Axes>"
            ],
            "image/png": "[encoded data removed]"
          },
          "metadata": {}
        }
      ]
    },
    {
      "cell_type": "code",
      "source": [
        "neurons = [Lif1]\n",
        "\n",
        "for neuron in neurons:\n",
        "    print(repr(neuron))\n",
        "    input_current_lst = []\n",
        "    frequency_of_spikes_lst = []\n",
        "\n",
        "    for input_current in range (0, 600):\n",
        "        input_current_lst.append(input_current)\n",
        "        range_T, I_array = I_creator(\"constant\", 400. , .1, {\"value\":input_current})\n",
        "        rec_spikes = neuron.run(I_array)[1]\n",
        "        frequency_of_spikes_lst.append(len(rec_spikes)/neuron.T)\n",
        "\n",
        "    frequency_vs_input_plotter(input_current_lst, frequency_of_spikes_lst)"
      ],
      "metadata": {
        "colab": {
          "base_uri": "https://localhost:8080/",
          "height": 466
        },
        "id": "KVkGOC_k3hmB",
        "outputId": "e5ff53e1-4794-4cdb-b1dd-622d632e8897"
      },
      "execution_count": null,
      "outputs": [
        {
          "output_type": "stream",
          "name": "stdout",
          "text": [
            "This is object of class LIF\n"
          ]
        },
        {
          "output_type": "display_data",
          "data": {
            "text/plain": [
              "<Figure size 640x480 with 1 Axes>"
            ],
            "image/png": "[encoded data removed]"
          },
          "metadata": {}
        }
      ]
    }
  ]
}